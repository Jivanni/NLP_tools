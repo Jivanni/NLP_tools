{
 "cells": [
  {
   "cell_type": "code",
   "execution_count": 1,
   "metadata": {
    "tags": []
   },
   "outputs": [],
   "source": [
    "#eeee\n",
    "from tkinter import *\n",
    "from tkinter import messagebox\n",
    "import langid, ARI, soundex"
   ]
  },
  {
   "cell_type": "code",
   "execution_count": 2,
   "metadata": {},
   "outputs": [],
   "source": [
    "class Error(Exception):\n",
    "    pass\n",
    "class No_plugin_selected(Error):\n",
    "    pass\n",
    "class No_text_inserted(Error):\n",
    "    pass"
   ]
  },
  {
   "cell_type": "code",
   "execution_count": 3,
   "metadata": {},
   "outputs": [],
   "source": [
    "class Application(Frame):\n",
    "    def __init__(self, master=None, active_plugin = None, string = None):\n",
    "        Frame.__init__(self,master)\n",
    "        self.createWidgets()\n",
    "        self.pack()\n",
    "        self.string = string\n",
    "        self.active_plugin = active_plugin\n",
    "\n",
    "    def set_current_plugin(self, plugin_name):\n",
    "        self.active_plugin = plugins_list[plugin_name]\n",
    "    \n",
    "    def createWidgets(self):\n",
    "        self.Input_box1 = Text(self)\n",
    "        self.Input_box1[\"height\"] = 10\n",
    "        self.Input_box1.grid(row = 0, column = 0, padx = 10, pady = 10, sticky = \"NW\")\n",
    "\n",
    "        self.Output_box1 = Text(self)\n",
    "        self.Output_box1[\"height\"] = 10\n",
    "        self.Output_box1.grid(row = 1, column = 0, padx = 10, pady = 10, sticky = \"NW\")\n",
    "    \n",
    "        self.Action_button = Button(self, padx = 50, pady = 20, text = \"Run\", command= self.print_text)\n",
    "        self.Action_button.grid(row = 0, column = 1, padx = 10, pady = 10, sticky = \"NW\")\n",
    "\n",
    "        self.Clear_button = Button(self, padx = 50, pady = 20, text = \"Clear\", command= self.clearall)\n",
    "        self.Clear_button.grid(row = 0, column = 2, padx = 10, pady = 10, sticky = \"NW\")\n",
    "\n",
    "        self.menubar = Menu(self.master)\n",
    "        self.filemenu = Menu(self.menubar, tearoff=0)\n",
    "        \n",
    "        self.menubar.add_cascade(label=\"Plugins\", menu=self.filemenu)\n",
    "        self.master.config(menu=self.menubar)\n",
    "    \n",
    "    def print_text(self):\n",
    "        self.string = self.Input_box1.get(\"1.0\",\"end-1c\")\n",
    "        try:\n",
    "            if self.active_plugin is None:\n",
    "                raise No_plugin_selected\n",
    "            \n",
    "            elif not self.string:\n",
    "                raise No_text_inserted\n",
    "            \n",
    "            self.Output_box1.delete(\"1.0\",END)\n",
    "            tx = self.active_plugin(self.string)\n",
    "            self.Output_box1.insert(\"1.0\", tx)\n",
    "\n",
    "        except (No_plugin_selected, TypeError):\n",
    "            messagebox.showerror(title = \"No Plugin\", message = \"Please select a Plugin\")\n",
    "        except No_text_inserted:\n",
    "            messagebox.showerror(title = \"No Text\", message = \"Please enter text\")\n",
    "        \n",
    "\n",
    "    def clearall(self):\n",
    "        self.Input_box1.delete(\"1.0\",END)\n",
    "        self.Output_box1.delete(\"1.0\",END)\n",
    "\n",
    "    def add_plugins_from_list(self,array):\n",
    "        for plugin in plugins_list.keys():\n",
    "            self.filemenu.add_radiobutton(label=plugin, command= lambda local_plugin = plugin: self.set_current_plugin(local_plugin))"
   ]
  },
  {
   "cell_type": "code",
   "execution_count": 4,
   "metadata": {
    "tags": []
   },
   "outputs": [],
   "source": [
    "if __name__ == '__main__':\n",
    "    \n",
    "    plugins_list = {\n",
    "                \"Language Detector\": langid.lang_id,\n",
    "                \"ARI Calculator\": ARI.ARI_rawtext, \n",
    "                \"Soundex\": soundex.Soundex\n",
    "                }\n",
    "    \n",
    "    app = Application(master=Tk())\n",
    "    app.add_plugins_from_list(plugins_list)\n",
    "    app.mainloop()"
   ]
  }
 ],
 "metadata": {
  "language_info": {
   "codemirror_mode": {
    "name": "ipython",
    "version": 3
   },
   "file_extension": ".py",
   "mimetype": "text/x-python",
   "name": "python",
   "nbconvert_exporter": "python",
   "pygments_lexer": "ipython3",
   "version": "3.8.3-final"
  },
  "orig_nbformat": 2,
  "kernelspec": {
   "name": "python38264bit93d92b793826460d9126d3f3a006af0b",
   "display_name": "Python 3.8.2 64-bit"
  }
 },
 "nbformat": 4,
 "nbformat_minor": 2
}